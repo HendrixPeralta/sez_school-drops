{
 "cells": [
  {
   "cell_type": "code",
   "execution_count": 1,
   "id": "3f757ba5",
   "metadata": {},
   "outputs": [],
   "source": [
    "import pandas as pd"
   ]
  },
  {
   "cell_type": "code",
   "execution_count": 2,
   "id": "7edc8a1d",
   "metadata": {},
   "outputs": [],
   "source": [
    "import numpy as np"
   ]
  },
  {
   "cell_type": "code",
   "execution_count": 3,
   "id": "f5075ba5",
   "metadata": {},
   "outputs": [],
   "source": [
    "inicial_dropout = pd.read_csv(\"edu_drop_initial 2010-2020.csv\").dropna().drop(columns = [\"2020\", \n",
    "                                                                                         \"2019\", \n",
    "                                                                                         \"2018\", \n",
    "                                                                                         \"2017\"])"
   ]
  },
  {
   "cell_type": "code",
   "execution_count": 4,
   "id": "69db4a5c",
   "metadata": {},
   "outputs": [],
   "source": [
    "ini_drop = inicial_dropout.rename(columns = {\"2016\":\"6\", \n",
    "                                             \"2015\":\"5\", \n",
    "                                             \"2014\":\"4\", \n",
    "                                             \"2014\":\"4\", \n",
    "                                             \"2013\":\"3\", \n",
    "                                             \"2012\":\"2\", \n",
    "                                             \"2011\":\"1\", \n",
    "                                             \"2010\":\"0\"})"
   ]
  },
  {
   "cell_type": "code",
   "execution_count": 5,
   "id": "88d5d169",
   "metadata": {},
   "outputs": [],
   "source": [
    " basica_dropout = pd.read_csv(\"edu_drop_basica 2010-2020.csv\").drop(columns = [\"Unnamed: 13\", \n",
    "                                                                               \"Unnamed: 14\", \n",
    "                                                                               \"Unnamed: 15\", \n",
    "                                                                               \"2020\", \n",
    "                                                                               \"2019\", \n",
    "                                                                               \"2018\", \n",
    "                                                                               \"2017\"]).dropna()"
   ]
  },
  {
   "cell_type": "code",
   "execution_count": 6,
   "id": "2c8a09e2",
   "metadata": {},
   "outputs": [],
   "source": [
    "bas_drop = basica_dropout.rename(columns = {\"id \": \"id\",\n",
    "                                            \"2016\":\"6\", \n",
    "                                            \"2015\":\"5\", \n",
    "                                            \"2014\":\"4\", \n",
    "                                            \"2014\":\"4\", \n",
    "                                            \"2013\":\"3\", \n",
    "                                            \"2012\":\"2\", \n",
    "                                            \"2011\":\"1\", \n",
    "                                            \"2010\":\"0\"})"
   ]
  },
  {
   "cell_type": "code",
   "execution_count": 7,
   "id": "c721b670",
   "metadata": {},
   "outputs": [],
   "source": [
    "crime = pd.read_csv(\"/Users/hendrixperalta/Downloads/Research/2. Data/ADM1_clean_csv/homicides 2008-2022.csv\").drop(columns = [\"homicides_2008\", \n",
    "                                                                                                                               \"homicides_2009\", \n",
    "                                                                                                                               \"homicides_2017\", \n",
    "                                                                                                                               \"homicides_2018\", \n",
    "                                                                                                                               \"homicides_2019\", \n",
    "                                                                                                                               \"homicides_2020\", \n",
    "                                                                                                                               \"homicides_2021\", \n",
    "                                                                                                                               \"homicides_2022\", \n",
    "                                                                                                                               \"shapeName\"])"
   ]
  },
  {
   "cell_type": "code",
   "execution_count": 8,
   "id": "5f5c3db7",
   "metadata": {},
   "outputs": [],
   "source": [
    "crime.rename(columns= {\"homicides_2010\":\"0\", \n",
    "                       \"homicides_2011\":\"1\", \n",
    "                       \"homicides_2012\":\"2\", \n",
    "                       \"homicides_2013\":\"3\", \n",
    "                       \"homicides_2014\":\"4\",\n",
    "                       \"homicides_2015\":\"5\",\n",
    "                       \"homicides_2016\":\"6\"}, inplace = True)"
   ]
  },
  {
   "cell_type": "code",
   "execution_count": 9,
   "id": "30942981",
   "metadata": {},
   "outputs": [],
   "source": [
    "op_salary = pd.read_csv(\"/Users/hendrixperalta/Downloads/Research/2. Data/Zonas Francas/salary/operator salary 2010-2016.csv\").drop(columns = [\"shapeName\"])"
   ]
  },
  {
   "cell_type": "code",
   "execution_count": 10,
   "id": "b3854a58",
   "metadata": {},
   "outputs": [],
   "source": [
    "tec_salary = pd.read_csv(\"/Users/hendrixperalta/Downloads/Research/2. Data/Zonas Francas/salary/tech_salary 2010-2016.csv\").drop(columns = [\"shapeName\"])"
   ]
  },
  {
   "cell_type": "code",
   "execution_count": 11,
   "id": "99488ddc",
   "metadata": {},
   "outputs": [],
   "source": [
    "births = pd.read_csv(\"births 2001-2021.csv\").drop(columns = [\"shapeName\",\n",
    "                                                            \"births_2001\",\n",
    "                                                            \"births_2002\",\n",
    "                                                            \"births_2003\",\n",
    "                                                            \"births_2004\",\n",
    "                                                            \"births_2005\",\n",
    "                                                            \"births_2006\",\n",
    "                                                            \"births_2007\",\n",
    "                                                            \"births_2008\",\n",
    "                                                            \"births_2009\",\n",
    "                                                            \"births_2017\",\n",
    "                                                            \"births_2018\",\n",
    "                                                            \"births_2019\",\n",
    "                                                            \"births_2020\",\n",
    "                                                            \"births_2021\",])"
   ]
  },
  {
   "cell_type": "code",
   "execution_count": 12,
   "id": "dc530222",
   "metadata": {},
   "outputs": [],
   "source": [
    "births.rename(columns = {\"births_2010\":\"0\",\n",
    "                        \"births_2011\":\"1\",\n",
    "                        \"births_2012\":\"2\",\n",
    "                        \"births_2013\":\"3\",\n",
    "                        \"births_2014\":\"4\",\n",
    "                        \"births_2015\":\"5\",\n",
    "                        \"births_2016\":\"6\",}, inplace = True)"
   ]
  },
  {
   "cell_type": "code",
   "execution_count": 13,
   "id": "c5b1aee8",
   "metadata": {},
   "outputs": [],
   "source": [
    "deaths = pd.read_csv(\"child deaths 2005-2021.csv\").drop(columns = [\"shapeName\",\n",
    "                                                                  \"deaths_2005\",\n",
    "                                                                  \"deaths_2006\",\n",
    "                                                                  \"deaths_2007\",\n",
    "                                                                  \"deaths_2008\",\n",
    "                                                                  \"deaths_2009\",\n",
    "                                                                  \"deaths_2017\",\n",
    "                                                                  \"deaths_2018\",\n",
    "                                                                  \"deaths_2019\",\n",
    "                                                                  \"deaths_2020\",\n",
    "                                                                  \"deaths_2021\",])\n"
   ]
  },
  {
   "cell_type": "code",
   "execution_count": 14,
   "id": "8aee8cb5",
   "metadata": {},
   "outputs": [],
   "source": [
    "deaths.rename(columns = {\"deaths_2010\":\"0\",\n",
    "                        \"deaths_2011\":\"1\",\n",
    "                        \"deaths_2012\":\"2\",\n",
    "                        \"deaths_2013\":\"3\",\n",
    "                        \"deaths_2014\":\"4\",\n",
    "                        \"deaths_2015\":\"5\",\n",
    "                        \"deaths_2016\":\"6\"}, inplace = True)"
   ]
  },
  {
   "cell_type": "code",
   "execution_count": 15,
   "id": "3ffe2bc5",
   "metadata": {},
   "outputs": [],
   "source": [
    "pop = pd.read_csv(\"pop 2000-2022.csv\").drop(columns = [\"shapeName\",\n",
    "                                                      \"pop_2000\",\n",
    "                                                      \"pop_2001\",\n",
    "                                                      \"pop_2002\",\n",
    "                                                      \"pop_2003\",\n",
    "                                                      \"pop_2004\",\n",
    "                                                      \"pop_2005\",\n",
    "                                                      \"pop_2006\",\n",
    "                                                      \"pop_2007\",\n",
    "                                                      \"pop_2008\",\n",
    "                                                      \"pop_2009\",\n",
    "                                                      \"pop_2017\",\n",
    "                                                      \"pop_2018\",\n",
    "                                                      \"pop_2019\",\n",
    "                                                      \"pop_2020\",\n",
    "                                                      \"pop_2021\",\n",
    "                                                      \"pop_2022\",])"
   ]
  },
  {
   "cell_type": "code",
   "execution_count": 16,
   "id": "ee077857",
   "metadata": {},
   "outputs": [],
   "source": [
    "pop.rename(columns = {\"pop_2010\":\"0\",\n",
    "                     \"pop_2011\":\"1\",\n",
    "                     \"pop_2012\":\"2\",\n",
    "                     \"pop_2013\":\"3\",\n",
    "                     \"pop_2014\":\"4\",\n",
    "                     \"pop_2015\":\"5\",\n",
    "                     \"pop_2016\":\"6\"}, inplace = True)"
   ]
  },
  {
   "cell_type": "code",
   "execution_count": null,
   "id": "2bd87ce6",
   "metadata": {},
   "outputs": [],
   "source": []
  },
  {
   "cell_type": "code",
   "execution_count": null,
   "id": "e9c59a9a",
   "metadata": {},
   "outputs": [],
   "source": []
  },
  {
   "cell_type": "code",
   "execution_count": null,
   "id": "2bda34f5",
   "metadata": {},
   "outputs": [],
   "source": []
  },
  {
   "cell_type": "code",
   "execution_count": null,
   "id": "923b9a26",
   "metadata": {},
   "outputs": [],
   "source": []
  },
  {
   "cell_type": "code",
   "execution_count": null,
   "id": "6e8f92a6",
   "metadata": {},
   "outputs": [],
   "source": []
  },
  {
   "cell_type": "code",
   "execution_count": null,
   "id": "428454d6",
   "metadata": {},
   "outputs": [],
   "source": [
    "\n",
    "\n"
   ]
  },
  {
   "cell_type": "code",
   "execution_count": 17,
   "id": "79fc6274",
   "metadata": {
    "scrolled": true
   },
   "outputs": [],
   "source": [
    "media_dropout = pd.read_csv(\"edu_drop_media 2010-2020.csv\").drop(columns = [\"Unnamed: 13\", \"Unnamed: 14\", \"Unnamed: 15\", \"Unnamed: 16\"]).dropna()"
   ]
  },
  {
   "cell_type": "code",
   "execution_count": 18,
   "id": "b3af789b",
   "metadata": {},
   "outputs": [],
   "source": [
    "med_drop = media_dropout.rename(columns = {\"provinces\": \"province\", \"2016\":\"6\", \"2015\":\"5\", \"2014\":\"4\", \"2014\":\"4\", \"2013\":\"3\", \"2012\":\"2\", \"2011\":\"1\", \"2010\":\"0\"})"
   ]
  },
  {
   "cell_type": "code",
   "execution_count": null,
   "id": "5fbf8dd2",
   "metadata": {},
   "outputs": [],
   "source": []
  },
  {
   "cell_type": "code",
   "execution_count": 19,
   "id": "548915cd",
   "metadata": {},
   "outputs": [],
   "source": [
    "inv_sez = pd.read_csv(\"inv by prov 2010-2016.csv\").drop(columns = [\"shapeName\", \"COORD_X\", \"COORD_Y\"])"
   ]
  },
  {
   "cell_type": "code",
   "execution_count": 20,
   "id": "c6fe66e4",
   "metadata": {},
   "outputs": [],
   "source": [
    "\n",
    "ent_sez = pd.read_csv(\"ent by prov 2010-2016.csv\").rename(columns = {\"16\": \"6\"})"
   ]
  },
  {
   "cell_type": "code",
   "execution_count": null,
   "id": "0330177e",
   "metadata": {},
   "outputs": [],
   "source": []
  },
  {
   "cell_type": "code",
   "execution_count": 21,
   "id": "d1077a8b",
   "metadata": {},
   "outputs": [],
   "source": [
    "melt_ini = pd.melt(ini_drop, id_vars = [\"id\", \"province\"], value_vars = [\"0\", \"1\", \"2\", \"3\", \"4\", \"5\", \"6\"], var_name = \"year\", value_name = \"ini_edu_dropout\")"
   ]
  },
  {
   "cell_type": "code",
   "execution_count": 22,
   "id": "87a3a3de",
   "metadata": {},
   "outputs": [],
   "source": [
    "melt_bas = pd.melt(bas_drop, id_vars = [\"id\", \"province\"], value_vars = [\"0\", \"1\", \"2\", \"3\", \"4\", \"5\", \"6\"], var_name = \"year\", value_name = \"bas_edu_dropout\")"
   ]
  },
  {
   "cell_type": "code",
   "execution_count": 23,
   "id": "82507c71",
   "metadata": {},
   "outputs": [],
   "source": [
    "melt_med = pd.melt(med_drop, id_vars = [\"id\", \"province\"], value_vars = [\"0\", \"1\", \"2\", \"3\", \"4\", \"5\", \"6\"], var_name = \"year\", value_name = \"med_edu_dropout\")"
   ]
  },
  {
   "cell_type": "code",
   "execution_count": null,
   "id": "d1b88ed0",
   "metadata": {},
   "outputs": [],
   "source": []
  },
  {
   "cell_type": "code",
   "execution_count": 24,
   "id": "8ce1abfb",
   "metadata": {},
   "outputs": [],
   "source": [
    "melt_inv = pd.melt(inv_sez, id_vars = [\"id\"], value_vars = [\"0\", \"1\", \"2\", \"3\", \"4\", \"5\", \"6\"], var_name = \"year\", value_name = \"inv\")\n"
   ]
  },
  {
   "cell_type": "code",
   "execution_count": 25,
   "id": "9db5ebfc",
   "metadata": {},
   "outputs": [],
   "source": [
    "melt_inv[\"inv\"] = melt_inv[\"inv\"].apply(lambda x: np.log(x) if x !=0 else 0)"
   ]
  },
  {
   "cell_type": "code",
   "execution_count": 26,
   "id": "36c633f3",
   "metadata": {},
   "outputs": [],
   "source": [
    "melt_inv.rename(columns = {\"inv\": \"l_inv\"}, inplace = True)"
   ]
  },
  {
   "cell_type": "code",
   "execution_count": 27,
   "id": "d2527c13",
   "metadata": {},
   "outputs": [],
   "source": [
    "melt_ent = pd.melt(ent_sez, id_vars = [\"id\"], value_vars = [\"0\", \"1\", \"2\", \"3\", \"4\", \"5\", \"6\"], var_name = \"year\", value_name = \"ent\")"
   ]
  },
  {
   "cell_type": "code",
   "execution_count": null,
   "id": "b4eb2604",
   "metadata": {},
   "outputs": [],
   "source": []
  },
  {
   "cell_type": "code",
   "execution_count": 28,
   "id": "4b087a68",
   "metadata": {},
   "outputs": [],
   "source": [
    "melt_crime = pd.melt(crime , id_vars=[\"id\"], \n",
    "                             value_vars =[\"0\", \"1\", \"2\", \"3\", \"4\", \"5\", \"6\"],\n",
    "                             var_name = \"year\",\n",
    "                             value_name = \"crime\")"
   ]
  },
  {
   "cell_type": "code",
   "execution_count": null,
   "id": "dd472b1c",
   "metadata": {},
   "outputs": [],
   "source": []
  },
  {
   "cell_type": "code",
   "execution_count": 29,
   "id": "cb06cfc5",
   "metadata": {},
   "outputs": [],
   "source": [
    "melt_op = pd.melt(op_salary, id_vars=[\"id\"],\n",
    "                             value_vars = [\"0\", \"1\", \"2\", \"3\", \"4\", \"5\", \"6\"],\n",
    "                             var_name = \"year\",\n",
    "                             value_name = \"op_salary\")"
   ]
  },
  {
   "cell_type": "code",
   "execution_count": 30,
   "id": "d3b8c278",
   "metadata": {},
   "outputs": [],
   "source": [
    "melt_tec = pd.melt(tec_salary, id_vars = [\"id\"],\n",
    "                               value_vars = [\"0\", \"1\", \"2\", \"3\", \"4\", \"5\", \"6\"], \n",
    "                               var_name = \"year\",\n",
    "                               value_name = \"tec_salary\")\n"
   ]
  },
  {
   "cell_type": "code",
   "execution_count": null,
   "id": "5a69e634",
   "metadata": {},
   "outputs": [],
   "source": []
  },
  {
   "cell_type": "code",
   "execution_count": 31,
   "id": "3d8ad414",
   "metadata": {},
   "outputs": [],
   "source": [
    "melt_birth = pd.melt(births, id_vars = [\"id\"],\n",
    "                               value_vars = [\"0\", \"1\", \"2\", \"3\", \"4\", \"5\", \"6\"], \n",
    "                               var_name = \"year\",\n",
    "                               value_name = \"birth\")"
   ]
  },
  {
   "cell_type": "code",
   "execution_count": 32,
   "id": "48617883",
   "metadata": {},
   "outputs": [],
   "source": [
    "melt_birth[\"birth\"] = melt_birth[\"birth\"].str.replace(\",\", \"\").astype(int) "
   ]
  },
  {
   "cell_type": "code",
   "execution_count": null,
   "id": "a9f20c94",
   "metadata": {},
   "outputs": [],
   "source": []
  },
  {
   "cell_type": "code",
   "execution_count": 33,
   "id": "840ff829",
   "metadata": {},
   "outputs": [],
   "source": [
    "melt_death = pd.melt(deaths, id_vars = [\"id\"],\n",
    "                               value_vars = [\"0\", \"1\", \"2\", \"3\", \"4\", \"5\", \"6\"], \n",
    "                               var_name = \"year\",\n",
    "                               value_name = \"c_death\")"
   ]
  },
  {
   "cell_type": "code",
   "execution_count": 34,
   "id": "ce6cf7b3",
   "metadata": {},
   "outputs": [],
   "source": [
    "melt_pop = pd.melt(pop, id_vars = [\"id\"],\n",
    "                               value_vars = [\"0\", \"1\", \"2\", \"3\", \"4\", \"5\", \"6\"], \n",
    "                               var_name = \"year\",\n",
    "                               value_name = \"pop\")"
   ]
  },
  {
   "cell_type": "code",
   "execution_count": null,
   "id": "0d27a234",
   "metadata": {},
   "outputs": [],
   "source": []
  },
  {
   "cell_type": "code",
   "execution_count": null,
   "id": "a9ba258f",
   "metadata": {},
   "outputs": [],
   "source": []
  },
  {
   "cell_type": "code",
   "execution_count": 35,
   "id": "69d90b1b",
   "metadata": {},
   "outputs": [],
   "source": [
    "merge_drop = pd.merge(melt_ini, melt_bas, on = [\"id\", \"year\", \"province\"], how=\"right\").merge(melt_med, on = [\"id\", \"year\", \"province\"], how = \"right\")"
   ]
  },
  {
   "cell_type": "code",
   "execution_count": 36,
   "id": "57ac501d",
   "metadata": {},
   "outputs": [],
   "source": [
    "merge_sez = pd.merge(melt_inv, melt_ent, on = [\"id\", \"year\"], how = \"right\")"
   ]
  },
  {
   "cell_type": "code",
   "execution_count": 37,
   "id": "21141248",
   "metadata": {},
   "outputs": [],
   "source": [
    "merge_1 = pd.merge(merge_drop, merge_sez, on = [\"id\", \"year\"], how= \"right\")"
   ]
  },
  {
   "cell_type": "code",
   "execution_count": 38,
   "id": "810ede60",
   "metadata": {},
   "outputs": [],
   "source": [
    "merge_2 = pd.merge(merge_1, melt_crime, on = [\"id\", \"year\"], how=\"right\")"
   ]
  },
  {
   "cell_type": "code",
   "execution_count": 39,
   "id": "b955d9ee",
   "metadata": {},
   "outputs": [],
   "source": [
    "merge_3 = pd.merge(melt_op, melt_tec, on = [\"id\", \"year\"], how = \"right\")"
   ]
  },
  {
   "cell_type": "code",
   "execution_count": 40,
   "id": "eecfbb27",
   "metadata": {},
   "outputs": [],
   "source": [
    "merge_4 = pd.merge(merge_2, merge_3, on=[\"id\", \"year\"], how =\"right\")"
   ]
  },
  {
   "cell_type": "code",
   "execution_count": 41,
   "id": "71095c0d",
   "metadata": {},
   "outputs": [],
   "source": [
    "merge_5 = pd.merge(merge_4, melt_birth, on=[\"id\", \"year\"], how =\"right\")"
   ]
  },
  {
   "cell_type": "code",
   "execution_count": 42,
   "id": "e7ef5735",
   "metadata": {},
   "outputs": [],
   "source": [
    "merge_6 = pd.merge(merge_5, melt_death, on=[\"id\", \"year\"], how =\"right\")"
   ]
  },
  {
   "cell_type": "code",
   "execution_count": 43,
   "id": "e457ed3a",
   "metadata": {},
   "outputs": [],
   "source": [
    "merge_7 = pd.merge(merge_6, melt_pop, on=[\"id\", \"year\"], how =\"right\")"
   ]
  },
  {
   "cell_type": "code",
   "execution_count": null,
   "id": "65a39784",
   "metadata": {},
   "outputs": [],
   "source": []
  },
  {
   "cell_type": "code",
   "execution_count": null,
   "id": "d738b41f",
   "metadata": {},
   "outputs": [],
   "source": []
  },
  {
   "cell_type": "code",
   "execution_count": 44,
   "id": "d9b532c8",
   "metadata": {},
   "outputs": [],
   "source": [
    "merge_data = merge_7"
   ]
  },
  {
   "cell_type": "code",
   "execution_count": 45,
   "id": "e60bde9d",
   "metadata": {},
   "outputs": [],
   "source": [
    "merge_data[\"id\"] = merge_data[\"id\"].astype(int)"
   ]
  },
  {
   "cell_type": "code",
   "execution_count": 46,
   "id": "db341da6",
   "metadata": {},
   "outputs": [
    {
     "data": {
      "text/html": [
       "<div>\n",
       "<style scoped>\n",
       "    .dataframe tbody tr th:only-of-type {\n",
       "        vertical-align: middle;\n",
       "    }\n",
       "\n",
       "    .dataframe tbody tr th {\n",
       "        vertical-align: top;\n",
       "    }\n",
       "\n",
       "    .dataframe thead th {\n",
       "        text-align: right;\n",
       "    }\n",
       "</style>\n",
       "<table border=\"1\" class=\"dataframe\">\n",
       "  <thead>\n",
       "    <tr style=\"text-align: right;\">\n",
       "      <th></th>\n",
       "      <th>id</th>\n",
       "      <th>province</th>\n",
       "      <th>year</th>\n",
       "      <th>ini_edu_dropout</th>\n",
       "      <th>bas_edu_dropout</th>\n",
       "      <th>med_edu_dropout</th>\n",
       "      <th>l_inv</th>\n",
       "      <th>ent</th>\n",
       "      <th>crime</th>\n",
       "      <th>op_salary</th>\n",
       "      <th>tec_salary</th>\n",
       "      <th>birth</th>\n",
       "      <th>c_death</th>\n",
       "      <th>pop</th>\n",
       "    </tr>\n",
       "  </thead>\n",
       "  <tbody>\n",
       "    <tr>\n",
       "      <th>0</th>\n",
       "      <td>0</td>\n",
       "      <td>Santiago</td>\n",
       "      <td>0</td>\n",
       "      <td>2.01</td>\n",
       "      <td>2.9</td>\n",
       "      <td>5.0</td>\n",
       "      <td>20.125000</td>\n",
       "      <td>146.0</td>\n",
       "      <td>240.0</td>\n",
       "      <td>18488.66</td>\n",
       "      <td>34591.88</td>\n",
       "      <td>19600</td>\n",
       "      <td>434</td>\n",
       "      <td>966833</td>\n",
       "    </tr>\n",
       "    <tr>\n",
       "      <th>1</th>\n",
       "      <td>1</td>\n",
       "      <td>Duarte</td>\n",
       "      <td>0</td>\n",
       "      <td>2.88</td>\n",
       "      <td>2.7</td>\n",
       "      <td>6.4</td>\n",
       "      <td>11.790102</td>\n",
       "      <td>1.0</td>\n",
       "      <td>78.0</td>\n",
       "      <td>1246.15</td>\n",
       "      <td>2500.00</td>\n",
       "      <td>5286</td>\n",
       "      <td>96</td>\n",
       "      <td>290586</td>\n",
       "    </tr>\n",
       "    <tr>\n",
       "      <th>2</th>\n",
       "      <td>2</td>\n",
       "      <td>Elías Piña</td>\n",
       "      <td>0</td>\n",
       "      <td>9.05</td>\n",
       "      <td>6.5</td>\n",
       "      <td>4.4</td>\n",
       "      <td>0.000000</td>\n",
       "      <td>0.0</td>\n",
       "      <td>19.0</td>\n",
       "      <td>0.00</td>\n",
       "      <td>0.00</td>\n",
       "      <td>805</td>\n",
       "      <td>8</td>\n",
       "      <td>63250</td>\n",
       "    </tr>\n",
       "    <tr>\n",
       "      <th>3</th>\n",
       "      <td>3</td>\n",
       "      <td>Hato Mayor</td>\n",
       "      <td>0</td>\n",
       "      <td>4.43</td>\n",
       "      <td>4.3</td>\n",
       "      <td>4.8</td>\n",
       "      <td>0.000000</td>\n",
       "      <td>0.0</td>\n",
       "      <td>10.0</td>\n",
       "      <td>0.00</td>\n",
       "      <td>0.00</td>\n",
       "      <td>1364</td>\n",
       "      <td>21</td>\n",
       "      <td>85313</td>\n",
       "    </tr>\n",
       "    <tr>\n",
       "      <th>4</th>\n",
       "      <td>4</td>\n",
       "      <td>La Vega</td>\n",
       "      <td>0</td>\n",
       "      <td>2.69</td>\n",
       "      <td>3.4</td>\n",
       "      <td>8.3</td>\n",
       "      <td>17.530296</td>\n",
       "      <td>23.0</td>\n",
       "      <td>107.0</td>\n",
       "      <td>1466.29</td>\n",
       "      <td>3190.84</td>\n",
       "      <td>6061</td>\n",
       "      <td>61</td>\n",
       "      <td>395582</td>\n",
       "    </tr>\n",
       "    <tr>\n",
       "      <th>...</th>\n",
       "      <td>...</td>\n",
       "      <td>...</td>\n",
       "      <td>...</td>\n",
       "      <td>...</td>\n",
       "      <td>...</td>\n",
       "      <td>...</td>\n",
       "      <td>...</td>\n",
       "      <td>...</td>\n",
       "      <td>...</td>\n",
       "      <td>...</td>\n",
       "      <td>...</td>\n",
       "      <td>...</td>\n",
       "      <td>...</td>\n",
       "      <td>...</td>\n",
       "    </tr>\n",
       "    <tr>\n",
       "      <th>219</th>\n",
       "      <td>27</td>\n",
       "      <td>María Trinidad Sánchez</td>\n",
       "      <td>6</td>\n",
       "      <td>0.24</td>\n",
       "      <td>0.8</td>\n",
       "      <td>4.1</td>\n",
       "      <td>0.000000</td>\n",
       "      <td>0.0</td>\n",
       "      <td>14.0</td>\n",
       "      <td>0.00</td>\n",
       "      <td>0.00</td>\n",
       "      <td>2417</td>\n",
       "      <td>33</td>\n",
       "      <td>141331</td>\n",
       "    </tr>\n",
       "    <tr>\n",
       "      <th>220</th>\n",
       "      <td>28</td>\n",
       "      <td>Santo Domingo</td>\n",
       "      <td>6</td>\n",
       "      <td>1.72</td>\n",
       "      <td>2.0</td>\n",
       "      <td>4.4</td>\n",
       "      <td>20.706963</td>\n",
       "      <td>105.0</td>\n",
       "      <td>370.0</td>\n",
       "      <td>42220.27</td>\n",
       "      <td>79247.57</td>\n",
       "      <td>31108</td>\n",
       "      <td>730</td>\n",
       "      <td>2702028</td>\n",
       "    </tr>\n",
       "    <tr>\n",
       "      <th>221</th>\n",
       "      <td>29</td>\n",
       "      <td>Monte Plata</td>\n",
       "      <td>6</td>\n",
       "      <td>1.75</td>\n",
       "      <td>2.8</td>\n",
       "      <td>5.5</td>\n",
       "      <td>0.000000</td>\n",
       "      <td>0.0</td>\n",
       "      <td>28.0</td>\n",
       "      <td>0.00</td>\n",
       "      <td>0.00</td>\n",
       "      <td>1800</td>\n",
       "      <td>34</td>\n",
       "      <td>189166</td>\n",
       "    </tr>\n",
       "    <tr>\n",
       "      <th>222</th>\n",
       "      <td>30</td>\n",
       "      <td>San Cristóbal</td>\n",
       "      <td>6</td>\n",
       "      <td>1.55</td>\n",
       "      <td>2.4</td>\n",
       "      <td>4.9</td>\n",
       "      <td>20.041700</td>\n",
       "      <td>60.0</td>\n",
       "      <td>95.0</td>\n",
       "      <td>12658.72</td>\n",
       "      <td>22158.72</td>\n",
       "      <td>8191</td>\n",
       "      <td>160</td>\n",
       "      <td>611677</td>\n",
       "    </tr>\n",
       "    <tr>\n",
       "      <th>223</th>\n",
       "      <td>31</td>\n",
       "      <td>San Pedro de Macorís</td>\n",
       "      <td>6</td>\n",
       "      <td>0.79</td>\n",
       "      <td>3.0</td>\n",
       "      <td>6.6</td>\n",
       "      <td>19.579447</td>\n",
       "      <td>47.0</td>\n",
       "      <td>42.0</td>\n",
       "      <td>5343.97</td>\n",
       "      <td>10911.94</td>\n",
       "      <td>5488</td>\n",
       "      <td>78</td>\n",
       "      <td>299933</td>\n",
       "    </tr>\n",
       "  </tbody>\n",
       "</table>\n",
       "<p>224 rows × 14 columns</p>\n",
       "</div>"
      ],
      "text/plain": [
       "     id                province year  ini_edu_dropout  bas_edu_dropout   \n",
       "0     0                Santiago    0             2.01              2.9  \\\n",
       "1     1                  Duarte    0             2.88              2.7   \n",
       "2     2              Elías Piña    0             9.05              6.5   \n",
       "3     3              Hato Mayor    0             4.43              4.3   \n",
       "4     4                 La Vega    0             2.69              3.4   \n",
       "..   ..                     ...  ...              ...              ...   \n",
       "219  27  María Trinidad Sánchez    6             0.24              0.8   \n",
       "220  28           Santo Domingo    6             1.72              2.0   \n",
       "221  29             Monte Plata    6             1.75              2.8   \n",
       "222  30           San Cristóbal    6             1.55              2.4   \n",
       "223  31    San Pedro de Macorís    6             0.79              3.0   \n",
       "\n",
       "     med_edu_dropout      l_inv    ent  crime  op_salary  tec_salary  birth   \n",
       "0                5.0  20.125000  146.0  240.0   18488.66    34591.88  19600  \\\n",
       "1                6.4  11.790102    1.0   78.0    1246.15     2500.00   5286   \n",
       "2                4.4   0.000000    0.0   19.0       0.00        0.00    805   \n",
       "3                4.8   0.000000    0.0   10.0       0.00        0.00   1364   \n",
       "4                8.3  17.530296   23.0  107.0    1466.29     3190.84   6061   \n",
       "..               ...        ...    ...    ...        ...         ...    ...   \n",
       "219              4.1   0.000000    0.0   14.0       0.00        0.00   2417   \n",
       "220              4.4  20.706963  105.0  370.0   42220.27    79247.57  31108   \n",
       "221              5.5   0.000000    0.0   28.0       0.00        0.00   1800   \n",
       "222              4.9  20.041700   60.0   95.0   12658.72    22158.72   8191   \n",
       "223              6.6  19.579447   47.0   42.0    5343.97    10911.94   5488   \n",
       "\n",
       "     c_death      pop  \n",
       "0        434   966833  \n",
       "1         96   290586  \n",
       "2          8    63250  \n",
       "3         21    85313  \n",
       "4         61   395582  \n",
       "..       ...      ...  \n",
       "219       33   141331  \n",
       "220      730  2702028  \n",
       "221       34   189166  \n",
       "222      160   611677  \n",
       "223       78   299933  \n",
       "\n",
       "[224 rows x 14 columns]"
      ]
     },
     "execution_count": 46,
     "metadata": {},
     "output_type": "execute_result"
    }
   ],
   "source": [
    "merge_data"
   ]
  },
  {
   "cell_type": "code",
   "execution_count": 47,
   "id": "c9079901",
   "metadata": {},
   "outputs": [],
   "source": [
    "merge_data.to_csv(\"sez_edu.csv\", index= False)"
   ]
  },
  {
   "cell_type": "code",
   "execution_count": null,
   "id": "3b55a867",
   "metadata": {},
   "outputs": [],
   "source": []
  },
  {
   "cell_type": "code",
   "execution_count": 48,
   "id": "d9709c8a",
   "metadata": {},
   "outputs": [],
   "source": [
    "df = pd.read_csv(\"data.csv\")"
   ]
  },
  {
   "cell_type": "code",
   "execution_count": 49,
   "id": "5a472382",
   "metadata": {},
   "outputs": [],
   "source": [
    "ntl = df[[\"id\",\n",
    "        \"viirs_ntl_annual_v20_avg_masked.2013.mean\", \n",
    "          \"viirs_ntl_annual_v20_avg_masked.2014.mean\", \n",
    "          \"viirs_ntl_annual_v20_avg_masked.2015.mean\",\n",
    "          \"viirs_ntl_annual_v20_avg_masked.2016.mean\"]]\n"
   ]
  },
  {
   "cell_type": "code",
   "execution_count": 50,
   "id": "d37083fb",
   "metadata": {},
   "outputs": [
    {
     "name": "stderr",
     "output_type": "stream",
     "text": [
      "/var/folders/9h/f8yzvgnn6gxglwwkbz6s4km00000gn/T/ipykernel_90999/3213400358.py:1: SettingWithCopyWarning: \n",
      "A value is trying to be set on a copy of a slice from a DataFrame\n",
      "\n",
      "See the caveats in the documentation: https://pandas.pydata.org/pandas-docs/stable/user_guide/indexing.html#returning-a-view-versus-a-copy\n",
      "  ntl.rename(columns = {\"viirs_ntl_annual_v20_avg_masked.2013.mean\":\"0\",\n"
     ]
    }
   ],
   "source": [
    "ntl.rename(columns = {\"viirs_ntl_annual_v20_avg_masked.2013.mean\":\"0\", \n",
    "          \"viirs_ntl_annual_v20_avg_masked.2014.mean\":\"1\", \n",
    "          \"viirs_ntl_annual_v20_avg_masked.2015.mean\":\"2\",\n",
    "          \"viirs_ntl_annual_v20_avg_masked.2016.mean\":\"3\"}, inplace = True)\n"
   ]
  },
  {
   "cell_type": "code",
   "execution_count": 51,
   "id": "ad4e61f6",
   "metadata": {},
   "outputs": [],
   "source": [
    "melt_ntl = pd.melt(ntl, id_vars = [\"id\"],\n",
    "                               value_vars = [\"0\", \"1\", \"2\", \"3\"], \n",
    "                               var_name = \"year\",\n",
    "                               value_name = \"ntl\")"
   ]
  },
  {
   "cell_type": "code",
   "execution_count": null,
   "id": "fec1d8eb",
   "metadata": {},
   "outputs": [],
   "source": []
  },
  {
   "cell_type": "code",
   "execution_count": 52,
   "id": "c8b866db",
   "metadata": {},
   "outputs": [],
   "source": [
    "tc_sal = df[[\"id\",\n",
    "            \"tec_3\",\n",
    "            \"tec_4\",\n",
    "            \"tec_5\",\n",
    "            \"tec_6\"]]"
   ]
  },
  {
   "cell_type": "code",
   "execution_count": 53,
   "id": "99e11a83",
   "metadata": {},
   "outputs": [
    {
     "name": "stderr",
     "output_type": "stream",
     "text": [
      "/var/folders/9h/f8yzvgnn6gxglwwkbz6s4km00000gn/T/ipykernel_90999/806185550.py:1: SettingWithCopyWarning: \n",
      "A value is trying to be set on a copy of a slice from a DataFrame\n",
      "\n",
      "See the caveats in the documentation: https://pandas.pydata.org/pandas-docs/stable/user_guide/indexing.html#returning-a-view-versus-a-copy\n",
      "  tc_sal.rename(columns = {\"tec_3\":\"0\",\n"
     ]
    }
   ],
   "source": [
    "tc_sal.rename(columns = {\"tec_3\":\"0\",\n",
    "            \"tec_4\":\"1\",\n",
    "            \"tec_5\":\"2\",\n",
    "            \"tec_6\":\"3\"}, inplace = True)\n"
   ]
  },
  {
   "cell_type": "code",
   "execution_count": 54,
   "id": "fdd0b05f",
   "metadata": {},
   "outputs": [],
   "source": [
    "melt_tc = pd.melt(tc_sal, id_vars = [\"id\"],\n",
    "                               value_vars = [\"0\", \"1\", \"2\", \"3\"], \n",
    "                               var_name = \"year\",\n",
    "                               value_name = \"tc\")"
   ]
  },
  {
   "cell_type": "code",
   "execution_count": null,
   "id": "40fa9fb0",
   "metadata": {},
   "outputs": [],
   "source": []
  },
  {
   "cell_type": "code",
   "execution_count": 55,
   "id": "f7e02afa",
   "metadata": {},
   "outputs": [],
   "source": [
    "ent = df[[\"id\", \n",
    "         \"ent_3\",\n",
    "         \"ent_4\",\n",
    "         \"ent_5\",\n",
    "         \"ent_6\"]]"
   ]
  },
  {
   "cell_type": "code",
   "execution_count": 56,
   "id": "3965b437",
   "metadata": {},
   "outputs": [
    {
     "name": "stderr",
     "output_type": "stream",
     "text": [
      "/var/folders/9h/f8yzvgnn6gxglwwkbz6s4km00000gn/T/ipykernel_90999/1114430876.py:1: SettingWithCopyWarning: \n",
      "A value is trying to be set on a copy of a slice from a DataFrame\n",
      "\n",
      "See the caveats in the documentation: https://pandas.pydata.org/pandas-docs/stable/user_guide/indexing.html#returning-a-view-versus-a-copy\n",
      "  ent.rename(columns = {\"ent_3\":\"0\",\n"
     ]
    }
   ],
   "source": [
    "ent.rename(columns = {\"ent_3\":\"0\",\n",
    "         \"ent_4\":\"1\",\n",
    "         \"ent_5\":\"2\",\n",
    "         \"ent_6\":\"3\"}, inplace = True)"
   ]
  },
  {
   "cell_type": "code",
   "execution_count": 57,
   "id": "64c11173",
   "metadata": {},
   "outputs": [],
   "source": [
    "melt_ent = pd.melt(ent, id_vars = [\"id\"],\n",
    "                               value_vars = [\"0\", \"1\", \"2\", \"3\"], \n",
    "                               var_name = \"year\",\n",
    "                               value_name = \"ent\")"
   ]
  },
  {
   "cell_type": "code",
   "execution_count": null,
   "id": "b113824a",
   "metadata": {},
   "outputs": [],
   "source": []
  },
  {
   "cell_type": "code",
   "execution_count": 58,
   "id": "f64f46a9",
   "metadata": {},
   "outputs": [],
   "source": [
    "ppp = df[[\"id\",\n",
    "         \"worldpop_pop_count_1km_mosaic.2013.sum\",\n",
    "         \"worldpop_pop_count_1km_mosaic.2014.sum\",\n",
    "         \"worldpop_pop_count_1km_mosaic.2015.sum\",\n",
    "         \"worldpop_pop_count_1km_mosaic.2016.sum\",]]"
   ]
  },
  {
   "cell_type": "code",
   "execution_count": 59,
   "id": "b7c694cf",
   "metadata": {},
   "outputs": [
    {
     "name": "stderr",
     "output_type": "stream",
     "text": [
      "/var/folders/9h/f8yzvgnn6gxglwwkbz6s4km00000gn/T/ipykernel_90999/2773669811.py:1: SettingWithCopyWarning: \n",
      "A value is trying to be set on a copy of a slice from a DataFrame\n",
      "\n",
      "See the caveats in the documentation: https://pandas.pydata.org/pandas-docs/stable/user_guide/indexing.html#returning-a-view-versus-a-copy\n",
      "  ppp.rename(columns = {\"worldpop_pop_count_1km_mosaic.2013.sum\":\"0\",\n"
     ]
    }
   ],
   "source": [
    "ppp.rename(columns = {\"worldpop_pop_count_1km_mosaic.2013.sum\":\"0\",\n",
    "         \"worldpop_pop_count_1km_mosaic.2014.sum\":\"1\",\n",
    "         \"worldpop_pop_count_1km_mosaic.2015.sum\":\"2\",\n",
    "         \"worldpop_pop_count_1km_mosaic.2016.sum\":\"3\"}, inplace = True)"
   ]
  },
  {
   "cell_type": "code",
   "execution_count": 60,
   "id": "a87c7b81",
   "metadata": {},
   "outputs": [],
   "source": [
    "melt_ppp = pd.melt(ppp, id_vars = [\"id\"],\n",
    "                               value_vars = [\"0\", \"1\", \"2\", \"3\"], \n",
    "                               var_name = \"year\",\n",
    "                               value_name = \"pop\")"
   ]
  },
  {
   "cell_type": "code",
   "execution_count": null,
   "id": "9103d8a3",
   "metadata": {},
   "outputs": [],
   "source": []
  },
  {
   "cell_type": "code",
   "execution_count": 61,
   "id": "267e9291",
   "metadata": {},
   "outputs": [],
   "source": [
    "inv = df[[\"id\",\n",
    "         \"inv_3\",\n",
    "         \"inv_4\",\n",
    "         \"inv_5\",\n",
    "         \"inv_6\",]]"
   ]
  },
  {
   "cell_type": "code",
   "execution_count": 62,
   "id": "892274bc",
   "metadata": {},
   "outputs": [
    {
     "name": "stderr",
     "output_type": "stream",
     "text": [
      "/var/folders/9h/f8yzvgnn6gxglwwkbz6s4km00000gn/T/ipykernel_90999/508502520.py:1: SettingWithCopyWarning: \n",
      "A value is trying to be set on a copy of a slice from a DataFrame\n",
      "\n",
      "See the caveats in the documentation: https://pandas.pydata.org/pandas-docs/stable/user_guide/indexing.html#returning-a-view-versus-a-copy\n",
      "  inv.rename(columns = {\"inv_3\":\"0\",\n"
     ]
    }
   ],
   "source": [
    "inv.rename(columns = {\"inv_3\":\"0\",\n",
    "         \"inv_4\":\"1\",\n",
    "         \"inv_5\":\"2\",\n",
    "         \"inv_6\":\"3\"}, inplace = True)"
   ]
  },
  {
   "cell_type": "code",
   "execution_count": 63,
   "id": "4ec2d90e",
   "metadata": {},
   "outputs": [],
   "source": [
    "melt_inv = pd.melt(inv, id_vars = [\"id\"],\n",
    "                               value_vars = [\"0\", \"1\", \"2\", \"3\"], \n",
    "                               var_name = \"year\",\n",
    "                               value_name = \"inv\")"
   ]
  },
  {
   "cell_type": "code",
   "execution_count": null,
   "id": "3681c20b",
   "metadata": {},
   "outputs": [],
   "source": []
  },
  {
   "cell_type": "code",
   "execution_count": 64,
   "id": "3198c2b5",
   "metadata": {},
   "outputs": [],
   "source": [
    "op_sal = df[[\"id\",\n",
    "            \"op_3\",\n",
    "            \"op_4\",\n",
    "            \"op_5\",\n",
    "            \"op_6\"]]"
   ]
  },
  {
   "cell_type": "code",
   "execution_count": 65,
   "id": "100f9bf3",
   "metadata": {},
   "outputs": [
    {
     "name": "stderr",
     "output_type": "stream",
     "text": [
      "/var/folders/9h/f8yzvgnn6gxglwwkbz6s4km00000gn/T/ipykernel_90999/3380257235.py:1: SettingWithCopyWarning: \n",
      "A value is trying to be set on a copy of a slice from a DataFrame\n",
      "\n",
      "See the caveats in the documentation: https://pandas.pydata.org/pandas-docs/stable/user_guide/indexing.html#returning-a-view-versus-a-copy\n",
      "  op_sal.rename(columns = {\"op_3\":\"0\",\n"
     ]
    }
   ],
   "source": [
    "op_sal.rename(columns = {\"op_3\":\"0\",\n",
    "            \"op_4\":\"1\",\n",
    "            \"op_5\":\"2\",\n",
    "            \"op_6\":\"3\"}, inplace = True)"
   ]
  },
  {
   "cell_type": "code",
   "execution_count": 66,
   "id": "dd9faf2b",
   "metadata": {},
   "outputs": [],
   "source": [
    "melt_op = pd.melt(op_sal, id_vars = [\"id\"],\n",
    "                               value_vars = [\"0\", \"1\", \"2\", \"3\"], \n",
    "                               var_name = \"year\",\n",
    "                               value_name = \"op\")"
   ]
  },
  {
   "cell_type": "code",
   "execution_count": 67,
   "id": "25c94268",
   "metadata": {},
   "outputs": [],
   "source": [
    "mun = df[[\"id\", \"shapeName\"]]"
   ]
  },
  {
   "cell_type": "code",
   "execution_count": 68,
   "id": "182568d9",
   "metadata": {},
   "outputs": [
    {
     "data": {
      "text/html": [
       "<div>\n",
       "<style scoped>\n",
       "    .dataframe tbody tr th:only-of-type {\n",
       "        vertical-align: middle;\n",
       "    }\n",
       "\n",
       "    .dataframe tbody tr th {\n",
       "        vertical-align: top;\n",
       "    }\n",
       "\n",
       "    .dataframe thead th {\n",
       "        text-align: right;\n",
       "    }\n",
       "</style>\n",
       "<table border=\"1\" class=\"dataframe\">\n",
       "  <thead>\n",
       "    <tr style=\"text-align: right;\">\n",
       "      <th></th>\n",
       "      <th>id</th>\n",
       "      <th>shapeName</th>\n",
       "      <th>viirs_ntl_annual_v20_avg_masked.2019.mean</th>\n",
       "      <th>viirs_ntl_annual_v20_avg_masked.2014.mean</th>\n",
       "      <th>viirs_ntl_annual_v20_avg_masked.2012.mean</th>\n",
       "      <th>viirs_ntl_annual_v20_avg_masked.2016.mean</th>\n",
       "      <th>viirs_ntl_annual_v20_avg_masked.2015.mean</th>\n",
       "      <th>viirs_ntl_annual_v20_avg_masked.2013.mean</th>\n",
       "      <th>viirs_ntl_annual_v20_avg_masked.2017.mean</th>\n",
       "      <th>viirs_ntl_annual_v20_avg_masked.2020.mean</th>\n",
       "      <th>...</th>\n",
       "      <th>tec_4</th>\n",
       "      <th>tec_5</th>\n",
       "      <th>tec_6</th>\n",
       "      <th>ent_0</th>\n",
       "      <th>ent_1</th>\n",
       "      <th>ent_2</th>\n",
       "      <th>ent_3</th>\n",
       "      <th>ent_4</th>\n",
       "      <th>ent_5</th>\n",
       "      <th>ent_6</th>\n",
       "    </tr>\n",
       "  </thead>\n",
       "  <tbody>\n",
       "    <tr>\n",
       "      <th>0</th>\n",
       "      <td>0</td>\n",
       "      <td>Constanza</td>\n",
       "      <td>0.401207</td>\n",
       "      <td>0.263253</td>\n",
       "      <td>0.194625</td>\n",
       "      <td>0.352943</td>\n",
       "      <td>0.299194</td>\n",
       "      <td>0.241208</td>\n",
       "      <td>0.351993</td>\n",
       "      <td>0.546144</td>\n",
       "      <td>...</td>\n",
       "      <td>0.00</td>\n",
       "      <td>0.00</td>\n",
       "      <td>0.00</td>\n",
       "      <td>0</td>\n",
       "      <td>0</td>\n",
       "      <td>0</td>\n",
       "      <td>0</td>\n",
       "      <td>0</td>\n",
       "      <td>0</td>\n",
       "      <td>0</td>\n",
       "    </tr>\n",
       "    <tr>\n",
       "      <th>1</th>\n",
       "      <td>1</td>\n",
       "      <td>Sabana De La Mar</td>\n",
       "      <td>0.100589</td>\n",
       "      <td>0.067296</td>\n",
       "      <td>0.063387</td>\n",
       "      <td>0.069212</td>\n",
       "      <td>0.083287</td>\n",
       "      <td>0.067278</td>\n",
       "      <td>0.085678</td>\n",
       "      <td>0.108171</td>\n",
       "      <td>...</td>\n",
       "      <td>0.00</td>\n",
       "      <td>0.00</td>\n",
       "      <td>0.00</td>\n",
       "      <td>0</td>\n",
       "      <td>0</td>\n",
       "      <td>0</td>\n",
       "      <td>0</td>\n",
       "      <td>0</td>\n",
       "      <td>0</td>\n",
       "      <td>0</td>\n",
       "    </tr>\n",
       "    <tr>\n",
       "      <th>2</th>\n",
       "      <td>2</td>\n",
       "      <td>Moca</td>\n",
       "      <td>2.867986</td>\n",
       "      <td>1.833166</td>\n",
       "      <td>1.374915</td>\n",
       "      <td>1.990754</td>\n",
       "      <td>2.010602</td>\n",
       "      <td>1.572900</td>\n",
       "      <td>2.311258</td>\n",
       "      <td>2.876479</td>\n",
       "      <td>...</td>\n",
       "      <td>4106.91</td>\n",
       "      <td>4287.64</td>\n",
       "      <td>4488.96</td>\n",
       "      <td>8</td>\n",
       "      <td>9</td>\n",
       "      <td>9</td>\n",
       "      <td>11</td>\n",
       "      <td>9</td>\n",
       "      <td>8</td>\n",
       "      <td>9</td>\n",
       "    </tr>\n",
       "    <tr>\n",
       "      <th>3</th>\n",
       "      <td>3</td>\n",
       "      <td>Bayaguana</td>\n",
       "      <td>0.128496</td>\n",
       "      <td>0.054003</td>\n",
       "      <td>0.036162</td>\n",
       "      <td>0.079397</td>\n",
       "      <td>0.042956</td>\n",
       "      <td>0.049891</td>\n",
       "      <td>0.130071</td>\n",
       "      <td>0.135144</td>\n",
       "      <td>...</td>\n",
       "      <td>0.00</td>\n",
       "      <td>0.00</td>\n",
       "      <td>0.00</td>\n",
       "      <td>0</td>\n",
       "      <td>0</td>\n",
       "      <td>0</td>\n",
       "      <td>0</td>\n",
       "      <td>0</td>\n",
       "      <td>0</td>\n",
       "      <td>0</td>\n",
       "    </tr>\n",
       "    <tr>\n",
       "      <th>4</th>\n",
       "      <td>4</td>\n",
       "      <td>El Factor</td>\n",
       "      <td>0.418200</td>\n",
       "      <td>0.264413</td>\n",
       "      <td>0.223998</td>\n",
       "      <td>0.269766</td>\n",
       "      <td>0.287420</td>\n",
       "      <td>0.275440</td>\n",
       "      <td>0.398318</td>\n",
       "      <td>0.506685</td>\n",
       "      <td>...</td>\n",
       "      <td>0.00</td>\n",
       "      <td>0.00</td>\n",
       "      <td>0.00</td>\n",
       "      <td>0</td>\n",
       "      <td>0</td>\n",
       "      <td>0</td>\n",
       "      <td>0</td>\n",
       "      <td>0</td>\n",
       "      <td>0</td>\n",
       "      <td>0</td>\n",
       "    </tr>\n",
       "    <tr>\n",
       "      <th>...</th>\n",
       "      <td>...</td>\n",
       "      <td>...</td>\n",
       "      <td>...</td>\n",
       "      <td>...</td>\n",
       "      <td>...</td>\n",
       "      <td>...</td>\n",
       "      <td>...</td>\n",
       "      <td>...</td>\n",
       "      <td>...</td>\n",
       "      <td>...</td>\n",
       "      <td>...</td>\n",
       "      <td>...</td>\n",
       "      <td>...</td>\n",
       "      <td>...</td>\n",
       "      <td>...</td>\n",
       "      <td>...</td>\n",
       "      <td>...</td>\n",
       "      <td>...</td>\n",
       "      <td>...</td>\n",
       "      <td>...</td>\n",
       "      <td>...</td>\n",
       "    </tr>\n",
       "    <tr>\n",
       "      <th>157</th>\n",
       "      <td>157</td>\n",
       "      <td>Isla Saona</td>\n",
       "      <td>0.000000</td>\n",
       "      <td>0.000000</td>\n",
       "      <td>0.000000</td>\n",
       "      <td>0.000000</td>\n",
       "      <td>0.000000</td>\n",
       "      <td>0.000000</td>\n",
       "      <td>0.000000</td>\n",
       "      <td>0.000000</td>\n",
       "      <td>...</td>\n",
       "      <td>0.00</td>\n",
       "      <td>0.00</td>\n",
       "      <td>0.00</td>\n",
       "      <td>0</td>\n",
       "      <td>0</td>\n",
       "      <td>0</td>\n",
       "      <td>0</td>\n",
       "      <td>0</td>\n",
       "      <td>0</td>\n",
       "      <td>0</td>\n",
       "    </tr>\n",
       "    <tr>\n",
       "      <th>158</th>\n",
       "      <td>158</td>\n",
       "      <td>Isla Catalina</td>\n",
       "      <td>0.000000</td>\n",
       "      <td>0.000000</td>\n",
       "      <td>0.000000</td>\n",
       "      <td>0.000000</td>\n",
       "      <td>0.000000</td>\n",
       "      <td>0.000000</td>\n",
       "      <td>0.000000</td>\n",
       "      <td>0.000000</td>\n",
       "      <td>...</td>\n",
       "      <td>0.00</td>\n",
       "      <td>0.00</td>\n",
       "      <td>0.00</td>\n",
       "      <td>0</td>\n",
       "      <td>0</td>\n",
       "      <td>0</td>\n",
       "      <td>0</td>\n",
       "      <td>0</td>\n",
       "      <td>0</td>\n",
       "      <td>0</td>\n",
       "    </tr>\n",
       "    <tr>\n",
       "      <th>159</th>\n",
       "      <td>159</td>\n",
       "      <td>San Luis</td>\n",
       "      <td>5.708070</td>\n",
       "      <td>2.620699</td>\n",
       "      <td>2.564142</td>\n",
       "      <td>3.256599</td>\n",
       "      <td>2.993163</td>\n",
       "      <td>3.261094</td>\n",
       "      <td>4.011179</td>\n",
       "      <td>6.574012</td>\n",
       "      <td>...</td>\n",
       "      <td>0.00</td>\n",
       "      <td>0.00</td>\n",
       "      <td>0.00</td>\n",
       "      <td>0</td>\n",
       "      <td>0</td>\n",
       "      <td>0</td>\n",
       "      <td>0</td>\n",
       "      <td>0</td>\n",
       "      <td>0</td>\n",
       "      <td>0</td>\n",
       "    </tr>\n",
       "    <tr>\n",
       "      <th>160</th>\n",
       "      <td>160</td>\n",
       "      <td>San Victor</td>\n",
       "      <td>2.372140</td>\n",
       "      <td>1.389243</td>\n",
       "      <td>1.151131</td>\n",
       "      <td>1.424146</td>\n",
       "      <td>1.501503</td>\n",
       "      <td>1.298119</td>\n",
       "      <td>1.779796</td>\n",
       "      <td>2.600796</td>\n",
       "      <td>...</td>\n",
       "      <td>0.00</td>\n",
       "      <td>0.00</td>\n",
       "      <td>0.00</td>\n",
       "      <td>0</td>\n",
       "      <td>0</td>\n",
       "      <td>0</td>\n",
       "      <td>0</td>\n",
       "      <td>0</td>\n",
       "      <td>0</td>\n",
       "      <td>0</td>\n",
       "    </tr>\n",
       "    <tr>\n",
       "      <th>161</th>\n",
       "      <td>161</td>\n",
       "      <td>Matanzas</td>\n",
       "      <td>0.630202</td>\n",
       "      <td>0.526792</td>\n",
       "      <td>0.398136</td>\n",
       "      <td>0.503377</td>\n",
       "      <td>0.565816</td>\n",
       "      <td>0.510897</td>\n",
       "      <td>0.528114</td>\n",
       "      <td>1.487020</td>\n",
       "      <td>...</td>\n",
       "      <td>4004.09</td>\n",
       "      <td>5295.21</td>\n",
       "      <td>5286.29</td>\n",
       "      <td>6</td>\n",
       "      <td>6</td>\n",
       "      <td>6</td>\n",
       "      <td>5</td>\n",
       "      <td>7</td>\n",
       "      <td>7</td>\n",
       "      <td>7</td>\n",
       "    </tr>\n",
       "  </tbody>\n",
       "</table>\n",
       "<p>162 rows × 105 columns</p>\n",
       "</div>"
      ],
      "text/plain": [
       "      id         shapeName  viirs_ntl_annual_v20_avg_masked.2019.mean   \n",
       "0      0         Constanza                                   0.401207  \\\n",
       "1      1  Sabana De La Mar                                   0.100589   \n",
       "2      2              Moca                                   2.867986   \n",
       "3      3         Bayaguana                                   0.128496   \n",
       "4      4         El Factor                                   0.418200   \n",
       "..   ...               ...                                        ...   \n",
       "157  157        Isla Saona                                   0.000000   \n",
       "158  158     Isla Catalina                                   0.000000   \n",
       "159  159          San Luis                                   5.708070   \n",
       "160  160        San Victor                                   2.372140   \n",
       "161  161          Matanzas                                   0.630202   \n",
       "\n",
       "     viirs_ntl_annual_v20_avg_masked.2014.mean   \n",
       "0                                     0.263253  \\\n",
       "1                                     0.067296   \n",
       "2                                     1.833166   \n",
       "3                                     0.054003   \n",
       "4                                     0.264413   \n",
       "..                                         ...   \n",
       "157                                   0.000000   \n",
       "158                                   0.000000   \n",
       "159                                   2.620699   \n",
       "160                                   1.389243   \n",
       "161                                   0.526792   \n",
       "\n",
       "     viirs_ntl_annual_v20_avg_masked.2012.mean   \n",
       "0                                     0.194625  \\\n",
       "1                                     0.063387   \n",
       "2                                     1.374915   \n",
       "3                                     0.036162   \n",
       "4                                     0.223998   \n",
       "..                                         ...   \n",
       "157                                   0.000000   \n",
       "158                                   0.000000   \n",
       "159                                   2.564142   \n",
       "160                                   1.151131   \n",
       "161                                   0.398136   \n",
       "\n",
       "     viirs_ntl_annual_v20_avg_masked.2016.mean   \n",
       "0                                     0.352943  \\\n",
       "1                                     0.069212   \n",
       "2                                     1.990754   \n",
       "3                                     0.079397   \n",
       "4                                     0.269766   \n",
       "..                                         ...   \n",
       "157                                   0.000000   \n",
       "158                                   0.000000   \n",
       "159                                   3.256599   \n",
       "160                                   1.424146   \n",
       "161                                   0.503377   \n",
       "\n",
       "     viirs_ntl_annual_v20_avg_masked.2015.mean   \n",
       "0                                     0.299194  \\\n",
       "1                                     0.083287   \n",
       "2                                     2.010602   \n",
       "3                                     0.042956   \n",
       "4                                     0.287420   \n",
       "..                                         ...   \n",
       "157                                   0.000000   \n",
       "158                                   0.000000   \n",
       "159                                   2.993163   \n",
       "160                                   1.501503   \n",
       "161                                   0.565816   \n",
       "\n",
       "     viirs_ntl_annual_v20_avg_masked.2013.mean   \n",
       "0                                     0.241208  \\\n",
       "1                                     0.067278   \n",
       "2                                     1.572900   \n",
       "3                                     0.049891   \n",
       "4                                     0.275440   \n",
       "..                                         ...   \n",
       "157                                   0.000000   \n",
       "158                                   0.000000   \n",
       "159                                   3.261094   \n",
       "160                                   1.298119   \n",
       "161                                   0.510897   \n",
       "\n",
       "     viirs_ntl_annual_v20_avg_masked.2017.mean   \n",
       "0                                     0.351993  \\\n",
       "1                                     0.085678   \n",
       "2                                     2.311258   \n",
       "3                                     0.130071   \n",
       "4                                     0.398318   \n",
       "..                                         ...   \n",
       "157                                   0.000000   \n",
       "158                                   0.000000   \n",
       "159                                   4.011179   \n",
       "160                                   1.779796   \n",
       "161                                   0.528114   \n",
       "\n",
       "     viirs_ntl_annual_v20_avg_masked.2020.mean  ...    tec_4    tec_5   \n",
       "0                                     0.546144  ...     0.00     0.00  \\\n",
       "1                                     0.108171  ...     0.00     0.00   \n",
       "2                                     2.876479  ...  4106.91  4287.64   \n",
       "3                                     0.135144  ...     0.00     0.00   \n",
       "4                                     0.506685  ...     0.00     0.00   \n",
       "..                                         ...  ...      ...      ...   \n",
       "157                                   0.000000  ...     0.00     0.00   \n",
       "158                                   0.000000  ...     0.00     0.00   \n",
       "159                                   6.574012  ...     0.00     0.00   \n",
       "160                                   2.600796  ...     0.00     0.00   \n",
       "161                                   1.487020  ...  4004.09  5295.21   \n",
       "\n",
       "       tec_6  ent_0  ent_1  ent_2  ent_3  ent_4  ent_5  ent_6  \n",
       "0       0.00      0      0      0      0      0      0      0  \n",
       "1       0.00      0      0      0      0      0      0      0  \n",
       "2    4488.96      8      9      9     11      9      8      9  \n",
       "3       0.00      0      0      0      0      0      0      0  \n",
       "4       0.00      0      0      0      0      0      0      0  \n",
       "..       ...    ...    ...    ...    ...    ...    ...    ...  \n",
       "157     0.00      0      0      0      0      0      0      0  \n",
       "158     0.00      0      0      0      0      0      0      0  \n",
       "159     0.00      0      0      0      0      0      0      0  \n",
       "160     0.00      0      0      0      0      0      0      0  \n",
       "161  5286.29      6      6      6      5      7      7      7  \n",
       "\n",
       "[162 rows x 105 columns]"
      ]
     },
     "execution_count": 68,
     "metadata": {},
     "output_type": "execute_result"
    }
   ],
   "source": [
    "df"
   ]
  },
  {
   "cell_type": "code",
   "execution_count": 69,
   "id": "1b37b710",
   "metadata": {},
   "outputs": [],
   "source": [
    "merge = pd.merge(mun, melt_op, on = [\"id\"], how = \"right\")"
   ]
  },
  {
   "cell_type": "code",
   "execution_count": 70,
   "id": "8b90cfe4",
   "metadata": {},
   "outputs": [],
   "source": [
    "merge_1 = pd.merge(merge, melt_inv , on = [\"id\", \"year\"], how = \"right\")"
   ]
  },
  {
   "cell_type": "code",
   "execution_count": 71,
   "id": "fbf15514",
   "metadata": {},
   "outputs": [],
   "source": [
    "merge_2 = pd.merge(merge_1, melt_ppp, on = [\"id\", \"year\"], how = \"right\")"
   ]
  },
  {
   "cell_type": "code",
   "execution_count": 72,
   "id": "7d44a7c8",
   "metadata": {},
   "outputs": [],
   "source": [
    "merge_3 = pd.merge(merge_2, melt_ent, on = [\"id\", \"year\"], how = \"right\")"
   ]
  },
  {
   "cell_type": "code",
   "execution_count": 73,
   "id": "1e130722",
   "metadata": {},
   "outputs": [],
   "source": [
    "merge_4 = pd.merge(merge_3, melt_tc, on = [\"id\", \"year\"], how = \"right\")"
   ]
  },
  {
   "cell_type": "code",
   "execution_count": 74,
   "id": "c52159f3",
   "metadata": {},
   "outputs": [],
   "source": [
    "merge_5 = pd.merge(merge_4, melt_ntl, on = [\"id\", \"year\"], how = \"right\")"
   ]
  },
  {
   "cell_type": "code",
   "execution_count": null,
   "id": "433a5247",
   "metadata": {},
   "outputs": [],
   "source": []
  },
  {
   "cell_type": "code",
   "execution_count": 75,
   "id": "adfae7c1",
   "metadata": {},
   "outputs": [],
   "source": [
    "merge_5.to_csv(\"data.csv\", index= False)"
   ]
  },
  {
   "cell_type": "code",
   "execution_count": 76,
   "id": "00c139f6",
   "metadata": {},
   "outputs": [
    {
     "data": {
      "text/html": [
       "<div>\n",
       "<style scoped>\n",
       "    .dataframe tbody tr th:only-of-type {\n",
       "        vertical-align: middle;\n",
       "    }\n",
       "\n",
       "    .dataframe tbody tr th {\n",
       "        vertical-align: top;\n",
       "    }\n",
       "\n",
       "    .dataframe thead th {\n",
       "        text-align: right;\n",
       "    }\n",
       "</style>\n",
       "<table border=\"1\" class=\"dataframe\">\n",
       "  <thead>\n",
       "    <tr style=\"text-align: right;\">\n",
       "      <th></th>\n",
       "      <th>id</th>\n",
       "      <th>shapeName</th>\n",
       "      <th>year</th>\n",
       "      <th>op</th>\n",
       "      <th>inv</th>\n",
       "      <th>pop</th>\n",
       "      <th>ent</th>\n",
       "      <th>tc</th>\n",
       "      <th>ntl</th>\n",
       "    </tr>\n",
       "  </thead>\n",
       "  <tbody>\n",
       "    <tr>\n",
       "      <th>0</th>\n",
       "      <td>0</td>\n",
       "      <td>Constanza</td>\n",
       "      <td>0</td>\n",
       "      <td>0.0</td>\n",
       "      <td>0.00</td>\n",
       "      <td>64882.167970</td>\n",
       "      <td>0</td>\n",
       "      <td>0.00</td>\n",
       "      <td>0.241208</td>\n",
       "    </tr>\n",
       "    <tr>\n",
       "      <th>1</th>\n",
       "      <td>1</td>\n",
       "      <td>Sabana De La Mar</td>\n",
       "      <td>0</td>\n",
       "      <td>0.0</td>\n",
       "      <td>0.00</td>\n",
       "      <td>15690.029300</td>\n",
       "      <td>0</td>\n",
       "      <td>0.00</td>\n",
       "      <td>0.067278</td>\n",
       "    </tr>\n",
       "    <tr>\n",
       "      <th>2</th>\n",
       "      <td>2</td>\n",
       "      <td>Moca</td>\n",
       "      <td>0</td>\n",
       "      <td>2043.0</td>\n",
       "      <td>15439930.34</td>\n",
       "      <td>118354.617200</td>\n",
       "      <td>11</td>\n",
       "      <td>3587.22</td>\n",
       "      <td>1.572900</td>\n",
       "    </tr>\n",
       "    <tr>\n",
       "      <th>3</th>\n",
       "      <td>3</td>\n",
       "      <td>Bayaguana</td>\n",
       "      <td>0</td>\n",
       "      <td>0.0</td>\n",
       "      <td>0.00</td>\n",
       "      <td>31123.841800</td>\n",
       "      <td>0</td>\n",
       "      <td>0.00</td>\n",
       "      <td>0.049891</td>\n",
       "    </tr>\n",
       "    <tr>\n",
       "      <th>4</th>\n",
       "      <td>4</td>\n",
       "      <td>El Factor</td>\n",
       "      <td>0</td>\n",
       "      <td>0.0</td>\n",
       "      <td>0.00</td>\n",
       "      <td>27863.269530</td>\n",
       "      <td>0</td>\n",
       "      <td>0.00</td>\n",
       "      <td>0.275440</td>\n",
       "    </tr>\n",
       "    <tr>\n",
       "      <th>...</th>\n",
       "      <td>...</td>\n",
       "      <td>...</td>\n",
       "      <td>...</td>\n",
       "      <td>...</td>\n",
       "      <td>...</td>\n",
       "      <td>...</td>\n",
       "      <td>...</td>\n",
       "      <td>...</td>\n",
       "      <td>...</td>\n",
       "    </tr>\n",
       "    <tr>\n",
       "      <th>643</th>\n",
       "      <td>157</td>\n",
       "      <td>Isla Saona</td>\n",
       "      <td>3</td>\n",
       "      <td>0.0</td>\n",
       "      <td>0.00</td>\n",
       "      <td>1997.416504</td>\n",
       "      <td>0</td>\n",
       "      <td>0.00</td>\n",
       "      <td>0.000000</td>\n",
       "    </tr>\n",
       "    <tr>\n",
       "      <th>644</th>\n",
       "      <td>158</td>\n",
       "      <td>Isla Catalina</td>\n",
       "      <td>3</td>\n",
       "      <td>0.0</td>\n",
       "      <td>0.00</td>\n",
       "      <td>339.188721</td>\n",
       "      <td>0</td>\n",
       "      <td>0.00</td>\n",
       "      <td>0.000000</td>\n",
       "    </tr>\n",
       "    <tr>\n",
       "      <th>645</th>\n",
       "      <td>159</td>\n",
       "      <td>San Luis</td>\n",
       "      <td>3</td>\n",
       "      <td>0.0</td>\n",
       "      <td>0.00</td>\n",
       "      <td>60370.230470</td>\n",
       "      <td>0</td>\n",
       "      <td>0.00</td>\n",
       "      <td>3.256599</td>\n",
       "    </tr>\n",
       "    <tr>\n",
       "      <th>646</th>\n",
       "      <td>160</td>\n",
       "      <td>San Victor</td>\n",
       "      <td>3</td>\n",
       "      <td>0.0</td>\n",
       "      <td>0.00</td>\n",
       "      <td>84292.187500</td>\n",
       "      <td>0</td>\n",
       "      <td>0.00</td>\n",
       "      <td>1.424146</td>\n",
       "    </tr>\n",
       "    <tr>\n",
       "      <th>647</th>\n",
       "      <td>161</td>\n",
       "      <td>Matanzas</td>\n",
       "      <td>3</td>\n",
       "      <td>2461.5</td>\n",
       "      <td>7576911.08</td>\n",
       "      <td>51284.535160</td>\n",
       "      <td>7</td>\n",
       "      <td>5286.29</td>\n",
       "      <td>0.503377</td>\n",
       "    </tr>\n",
       "  </tbody>\n",
       "</table>\n",
       "<p>648 rows × 9 columns</p>\n",
       "</div>"
      ],
      "text/plain": [
       "      id         shapeName year      op          inv            pop  ent   \n",
       "0      0         Constanza    0     0.0         0.00   64882.167970    0  \\\n",
       "1      1  Sabana De La Mar    0     0.0         0.00   15690.029300    0   \n",
       "2      2              Moca    0  2043.0  15439930.34  118354.617200   11   \n",
       "3      3         Bayaguana    0     0.0         0.00   31123.841800    0   \n",
       "4      4         El Factor    0     0.0         0.00   27863.269530    0   \n",
       "..   ...               ...  ...     ...          ...            ...  ...   \n",
       "643  157        Isla Saona    3     0.0         0.00    1997.416504    0   \n",
       "644  158     Isla Catalina    3     0.0         0.00     339.188721    0   \n",
       "645  159          San Luis    3     0.0         0.00   60370.230470    0   \n",
       "646  160        San Victor    3     0.0         0.00   84292.187500    0   \n",
       "647  161          Matanzas    3  2461.5   7576911.08   51284.535160    7   \n",
       "\n",
       "          tc       ntl  \n",
       "0       0.00  0.241208  \n",
       "1       0.00  0.067278  \n",
       "2    3587.22  1.572900  \n",
       "3       0.00  0.049891  \n",
       "4       0.00  0.275440  \n",
       "..       ...       ...  \n",
       "643     0.00  0.000000  \n",
       "644     0.00  0.000000  \n",
       "645     0.00  3.256599  \n",
       "646     0.00  1.424146  \n",
       "647  5286.29  0.503377  \n",
       "\n",
       "[648 rows x 9 columns]"
      ]
     },
     "execution_count": 76,
     "metadata": {},
     "output_type": "execute_result"
    }
   ],
   "source": [
    "merge_5"
   ]
  },
  {
   "cell_type": "code",
   "execution_count": null,
   "id": "77e97e62",
   "metadata": {},
   "outputs": [],
   "source": []
  }
 ],
 "metadata": {
  "kernelspec": {
   "display_name": "Python 3 (ipykernel)",
   "language": "python",
   "name": "python3"
  },
  "language_info": {
   "codemirror_mode": {
    "name": "ipython",
    "version": 3
   },
   "file_extension": ".py",
   "mimetype": "text/x-python",
   "name": "python",
   "nbconvert_exporter": "python",
   "pygments_lexer": "ipython3",
   "version": "3.11.3"
  }
 },
 "nbformat": 4,
 "nbformat_minor": 5
}
