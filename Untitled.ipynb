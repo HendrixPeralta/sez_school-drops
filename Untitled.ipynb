{
 "cells": [
  {
   "cell_type": "code",
   "execution_count": 1,
   "id": "3f757ba5",
   "metadata": {},
   "outputs": [],
   "source": [
    "import pandas as pd"
   ]
  },
  {
   "cell_type": "code",
   "execution_count": 2,
   "id": "08098ee5",
   "metadata": {},
   "outputs": [],
   "source": [
    "import numpy as np"
   ]
  },
  {
   "cell_type": "code",
   "execution_count": 3,
   "id": "574213fe",
   "metadata": {},
   "outputs": [],
   "source": [
    "inicial_dropout = pd.read_csv(\"edu_drop_initial 2010-2020.csv\").dropna().drop(columns = [\"2020\", \"2019\", \"2018\", \"2017\"])"
   ]
  },
  {
   "cell_type": "code",
   "execution_count": 4,
   "id": "3b95127d",
   "metadata": {},
   "outputs": [],
   "source": [
    "ini_drop = inicial_dropout.rename(columns = {\"2016\":\"6\", \"2015\":\"5\", \"2014\":\"4\", \"2014\":\"4\", \"2013\":\"3\", \"2012\":\"2\", \"2011\":\"1\", \"2010\":\"0\"})"
   ]
  },
  {
   "cell_type": "code",
   "execution_count": 5,
   "id": "6beb8a62",
   "metadata": {},
   "outputs": [],
   "source": [
    " basica_dropout = pd.read_csv(\"edu_drop_basica 2010-2020.csv\").drop(columns = [\"Unnamed: 13\", \"Unnamed: 14\", \"Unnamed: 15\", \"2020\", \"2019\", \"2018\", \"2017\"]).dropna()"
   ]
  },
  {
   "cell_type": "code",
   "execution_count": 6,
   "id": "40ff3c97",
   "metadata": {},
   "outputs": [],
   "source": [
    "bas_drop = basica_dropout.rename(columns = {\"id \": \"id\",\"2016\":\"6\", \"2015\":\"5\", \"2014\":\"4\", \"2014\":\"4\", \"2013\":\"3\", \"2012\":\"2\", \"2011\":\"1\", \"2010\":\"0\"})"
   ]
  },
  {
   "cell_type": "code",
   "execution_count": null,
   "id": "54e8ef92",
   "metadata": {},
   "outputs": [],
   "source": []
  },
  {
   "cell_type": "code",
   "execution_count": 7,
   "id": "79fc6274",
   "metadata": {
    "scrolled": true
   },
   "outputs": [],
   "source": [
    "media_dropout = pd.read_csv(\"edu_drop_media 2010-2020.csv\").drop(columns = [\"Unnamed: 13\", \"Unnamed: 14\", \"Unnamed: 15\", \"Unnamed: 16\"]).dropna()"
   ]
  },
  {
   "cell_type": "code",
   "execution_count": 8,
   "id": "c438d189",
   "metadata": {},
   "outputs": [],
   "source": [
    "med_drop = media_dropout.rename(columns = {\"provinces\": \"province\", \"2016\":\"6\", \"2015\":\"5\", \"2014\":\"4\", \"2014\":\"4\", \"2013\":\"3\", \"2012\":\"2\", \"2011\":\"1\", \"2010\":\"0\"})"
   ]
  },
  {
   "cell_type": "code",
   "execution_count": null,
   "id": "2b1c5315",
   "metadata": {},
   "outputs": [],
   "source": []
  },
  {
   "cell_type": "code",
   "execution_count": 9,
   "id": "44d7cae1",
   "metadata": {},
   "outputs": [],
   "source": [
    "inv_sez = pd.read_csv(\"inv by prov 2010-2016.csv\").drop(columns = [\"shapeName\", \"COORD_X\", \"COORD_Y\"])"
   ]
  },
  {
   "cell_type": "code",
   "execution_count": 10,
   "id": "c6fe66e4",
   "metadata": {},
   "outputs": [],
   "source": [
    "\n",
    "ent_sez = pd.read_csv(\"ent by prov 2010-2016.csv\").rename(columns = {\"16\": \"6\"})"
   ]
  },
  {
   "cell_type": "code",
   "execution_count": null,
   "id": "6047ef84",
   "metadata": {},
   "outputs": [],
   "source": []
  },
  {
   "cell_type": "code",
   "execution_count": 11,
   "id": "d1077a8b",
   "metadata": {},
   "outputs": [],
   "source": [
    "melt_ini = pd.melt(ini_drop, id_vars = [\"id\", \"province\"], value_vars = [\"0\", \"1\", \"2\", \"3\", \"4\", \"5\", \"6\"], var_name = \"year\", value_name = \"ini_edu_dropout\")"
   ]
  },
  {
   "cell_type": "code",
   "execution_count": 12,
   "id": "271d21c2",
   "metadata": {},
   "outputs": [],
   "source": [
    "melt_bas = pd.melt(bas_drop, id_vars = [\"id\", \"province\"], value_vars = [\"0\", \"1\", \"2\", \"3\", \"4\", \"5\", \"6\"], var_name = \"year\", value_name = \"bas_edu_dropout\")"
   ]
  },
  {
   "cell_type": "code",
   "execution_count": 13,
   "id": "e1f6d524",
   "metadata": {},
   "outputs": [],
   "source": [
    "melt_med = pd.melt(med_drop, id_vars = [\"id\", \"province\"], value_vars = [\"0\", \"1\", \"2\", \"3\", \"4\", \"5\", \"6\"], var_name = \"year\", value_name = \"med_edu_dropout\")"
   ]
  },
  {
   "cell_type": "code",
   "execution_count": null,
   "id": "1c18f609",
   "metadata": {},
   "outputs": [],
   "source": []
  },
  {
   "cell_type": "code",
   "execution_count": 14,
   "id": "48afa281",
   "metadata": {},
   "outputs": [],
   "source": [
    "melt_inv = pd.melt(inv_sez, id_vars = [\"id\"], value_vars = [\"0\", \"1\", \"2\", \"3\", \"4\", \"5\", \"6\"], var_name = \"year\", value_name = \"inv\")\n"
   ]
  },
  {
   "cell_type": "code",
   "execution_count": 15,
   "id": "ecc2eae3",
   "metadata": {},
   "outputs": [],
   "source": [
    "melt_inv[\"inv\"] = melt_inv[\"inv\"].apply(lambda x: np.log(x) if x !=0 else 0)"
   ]
  },
  {
   "cell_type": "code",
   "execution_count": 16,
   "id": "f1d2fcb5",
   "metadata": {},
   "outputs": [],
   "source": [
    "melt_inv.rename(columns = {\"inv\": \"l_inv\"}, inplace = True)"
   ]
  },
  {
   "cell_type": "code",
   "execution_count": 17,
   "id": "89b1eec2",
   "metadata": {},
   "outputs": [],
   "source": [
    "melt_ent = pd.melt(ent_sez, id_vars = [\"id\"], value_vars = [\"0\", \"1\", \"2\", \"3\", \"4\", \"5\", \"6\"], var_name = \"year\", value_name = \"ent\")"
   ]
  },
  {
   "cell_type": "code",
   "execution_count": null,
   "id": "004eafbb",
   "metadata": {},
   "outputs": [],
   "source": []
  },
  {
   "cell_type": "code",
   "execution_count": 18,
   "id": "d4c350cb",
   "metadata": {},
   "outputs": [],
   "source": [
    "merge_drop = pd.merge(melt_ini, melt_bas, on = [\"id\", \"year\", \"province\"], how=\"right\").merge(melt_med, on = [\"id\", \"year\", \"province\"], how = \"right\")"
   ]
  },
  {
   "cell_type": "code",
   "execution_count": 19,
   "id": "725ceed6",
   "metadata": {},
   "outputs": [],
   "source": [
    "merge_sez = pd.merge(melt_inv, melt_ent, on = [\"id\", \"year\"], how = \"right\")"
   ]
  },
  {
   "cell_type": "code",
   "execution_count": 20,
   "id": "18c210e0",
   "metadata": {},
   "outputs": [],
   "source": [
    "merge_data = pd.merge(merge_drop, merge_sez, on = [\"id\", \"year\"], how= \"right\")"
   ]
  },
  {
   "cell_type": "code",
   "execution_count": null,
   "id": "e3a42f27",
   "metadata": {},
   "outputs": [],
   "source": []
  },
  {
   "cell_type": "code",
   "execution_count": 21,
   "id": "e5fe3e1a",
   "metadata": {},
   "outputs": [],
   "source": [
    "merge_data[\"id\"] = merge_data[\"id\"].astype(int)"
   ]
  },
  {
   "cell_type": "code",
   "execution_count": 22,
   "id": "a0721760",
   "metadata": {},
   "outputs": [
    {
     "data": {
      "text/html": [
       "<div>\n",
       "<style scoped>\n",
       "    .dataframe tbody tr th:only-of-type {\n",
       "        vertical-align: middle;\n",
       "    }\n",
       "\n",
       "    .dataframe tbody tr th {\n",
       "        vertical-align: top;\n",
       "    }\n",
       "\n",
       "    .dataframe thead th {\n",
       "        text-align: right;\n",
       "    }\n",
       "</style>\n",
       "<table border=\"1\" class=\"dataframe\">\n",
       "  <thead>\n",
       "    <tr style=\"text-align: right;\">\n",
       "      <th></th>\n",
       "      <th>id</th>\n",
       "      <th>province</th>\n",
       "      <th>year</th>\n",
       "      <th>ini_edu_dropout</th>\n",
       "      <th>bas_edu_dropout</th>\n",
       "      <th>med_edu_dropout</th>\n",
       "      <th>l_inv</th>\n",
       "      <th>ent</th>\n",
       "    </tr>\n",
       "  </thead>\n",
       "  <tbody>\n",
       "    <tr>\n",
       "      <th>0</th>\n",
       "      <td>0</td>\n",
       "      <td>Santiago</td>\n",
       "      <td>0</td>\n",
       "      <td>2.01</td>\n",
       "      <td>2.9</td>\n",
       "      <td>5.0</td>\n",
       "      <td>20.125000</td>\n",
       "      <td>146</td>\n",
       "    </tr>\n",
       "    <tr>\n",
       "      <th>1</th>\n",
       "      <td>1</td>\n",
       "      <td>Duarte</td>\n",
       "      <td>0</td>\n",
       "      <td>2.88</td>\n",
       "      <td>2.7</td>\n",
       "      <td>6.4</td>\n",
       "      <td>11.790102</td>\n",
       "      <td>1</td>\n",
       "    </tr>\n",
       "    <tr>\n",
       "      <th>2</th>\n",
       "      <td>2</td>\n",
       "      <td>Elías Piña</td>\n",
       "      <td>0</td>\n",
       "      <td>9.05</td>\n",
       "      <td>6.5</td>\n",
       "      <td>4.4</td>\n",
       "      <td>0.000000</td>\n",
       "      <td>0</td>\n",
       "    </tr>\n",
       "    <tr>\n",
       "      <th>3</th>\n",
       "      <td>3</td>\n",
       "      <td>Hato Mayor</td>\n",
       "      <td>0</td>\n",
       "      <td>4.43</td>\n",
       "      <td>4.3</td>\n",
       "      <td>4.8</td>\n",
       "      <td>0.000000</td>\n",
       "      <td>0</td>\n",
       "    </tr>\n",
       "    <tr>\n",
       "      <th>4</th>\n",
       "      <td>4</td>\n",
       "      <td>La Vega</td>\n",
       "      <td>0</td>\n",
       "      <td>2.69</td>\n",
       "      <td>3.4</td>\n",
       "      <td>8.3</td>\n",
       "      <td>17.530296</td>\n",
       "      <td>23</td>\n",
       "    </tr>\n",
       "    <tr>\n",
       "      <th>...</th>\n",
       "      <td>...</td>\n",
       "      <td>...</td>\n",
       "      <td>...</td>\n",
       "      <td>...</td>\n",
       "      <td>...</td>\n",
       "      <td>...</td>\n",
       "      <td>...</td>\n",
       "      <td>...</td>\n",
       "    </tr>\n",
       "    <tr>\n",
       "      <th>219</th>\n",
       "      <td>27</td>\n",
       "      <td>María Trinidad Sánchez</td>\n",
       "      <td>6</td>\n",
       "      <td>0.24</td>\n",
       "      <td>0.8</td>\n",
       "      <td>4.1</td>\n",
       "      <td>0.000000</td>\n",
       "      <td>0</td>\n",
       "    </tr>\n",
       "    <tr>\n",
       "      <th>220</th>\n",
       "      <td>28</td>\n",
       "      <td>Santo Domingo</td>\n",
       "      <td>6</td>\n",
       "      <td>1.72</td>\n",
       "      <td>2.0</td>\n",
       "      <td>4.4</td>\n",
       "      <td>20.706963</td>\n",
       "      <td>105</td>\n",
       "    </tr>\n",
       "    <tr>\n",
       "      <th>221</th>\n",
       "      <td>29</td>\n",
       "      <td>Monte Plata</td>\n",
       "      <td>6</td>\n",
       "      <td>1.75</td>\n",
       "      <td>2.8</td>\n",
       "      <td>5.5</td>\n",
       "      <td>0.000000</td>\n",
       "      <td>0</td>\n",
       "    </tr>\n",
       "    <tr>\n",
       "      <th>222</th>\n",
       "      <td>30</td>\n",
       "      <td>San Cristóbal</td>\n",
       "      <td>6</td>\n",
       "      <td>1.55</td>\n",
       "      <td>2.4</td>\n",
       "      <td>4.9</td>\n",
       "      <td>20.041700</td>\n",
       "      <td>60</td>\n",
       "    </tr>\n",
       "    <tr>\n",
       "      <th>223</th>\n",
       "      <td>31</td>\n",
       "      <td>San Pedro de Macorís</td>\n",
       "      <td>6</td>\n",
       "      <td>0.79</td>\n",
       "      <td>3.0</td>\n",
       "      <td>6.6</td>\n",
       "      <td>19.579447</td>\n",
       "      <td>47</td>\n",
       "    </tr>\n",
       "  </tbody>\n",
       "</table>\n",
       "<p>224 rows × 8 columns</p>\n",
       "</div>"
      ],
      "text/plain": [
       "     id                province year  ini_edu_dropout  bas_edu_dropout   \n",
       "0     0                Santiago    0             2.01              2.9  \\\n",
       "1     1                  Duarte    0             2.88              2.7   \n",
       "2     2              Elías Piña    0             9.05              6.5   \n",
       "3     3              Hato Mayor    0             4.43              4.3   \n",
       "4     4                 La Vega    0             2.69              3.4   \n",
       "..   ..                     ...  ...              ...              ...   \n",
       "219  27  María Trinidad Sánchez    6             0.24              0.8   \n",
       "220  28           Santo Domingo    6             1.72              2.0   \n",
       "221  29             Monte Plata    6             1.75              2.8   \n",
       "222  30           San Cristóbal    6             1.55              2.4   \n",
       "223  31    San Pedro de Macorís    6             0.79              3.0   \n",
       "\n",
       "     med_edu_dropout      l_inv  ent  \n",
       "0                5.0  20.125000  146  \n",
       "1                6.4  11.790102    1  \n",
       "2                4.4   0.000000    0  \n",
       "3                4.8   0.000000    0  \n",
       "4                8.3  17.530296   23  \n",
       "..               ...        ...  ...  \n",
       "219              4.1   0.000000    0  \n",
       "220              4.4  20.706963  105  \n",
       "221              5.5   0.000000    0  \n",
       "222              4.9  20.041700   60  \n",
       "223              6.6  19.579447   47  \n",
       "\n",
       "[224 rows x 8 columns]"
      ]
     },
     "execution_count": 22,
     "metadata": {},
     "output_type": "execute_result"
    }
   ],
   "source": [
    "merge_data"
   ]
  },
  {
   "cell_type": "code",
   "execution_count": 23,
   "id": "793a78a0",
   "metadata": {},
   "outputs": [],
   "source": [
    "merge_data.to_csv(\"sez_edu.csv\", index= False)"
   ]
  },
  {
   "cell_type": "code",
   "execution_count": null,
   "id": "f587a569",
   "metadata": {},
   "outputs": [],
   "source": []
  },
  {
   "cell_type": "code",
   "execution_count": null,
   "id": "3602436e",
   "metadata": {},
   "outputs": [],
   "source": []
  }
 ],
 "metadata": {
  "kernelspec": {
   "display_name": "Python 3 (ipykernel)",
   "language": "python",
   "name": "python3"
  },
  "language_info": {
   "codemirror_mode": {
    "name": "ipython",
    "version": 3
   },
   "file_extension": ".py",
   "mimetype": "text/x-python",
   "name": "python",
   "nbconvert_exporter": "python",
   "pygments_lexer": "ipython3",
   "version": "3.11.3"
  }
 },
 "nbformat": 4,
 "nbformat_minor": 5
}
